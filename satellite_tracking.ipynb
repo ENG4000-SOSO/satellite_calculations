{
 "cells": [
  {
   "cell_type": "code",
   "execution_count": 10,
   "metadata": {},
   "outputs": [],
   "source": [
    "from skyfield.api import Topos, load"
   ]
  },
  {
   "cell_type": "code",
   "execution_count": 11,
   "metadata": {},
   "outputs": [],
   "source": [
    "# Load satellite data (from Celestrak)\n",
    "# stations_url = 'http://celestrak.com/NORAD/elements/stations.txt'\n",
    "stations_url = './norad_stations.txt'\n",
    "satellites = load.tle_file(stations_url)\n",
    "satellite = satellites[0]  # Choose the first satellite"
   ]
  },
  {
   "cell_type": "code",
   "execution_count": 12,
   "metadata": {},
   "outputs": [],
   "source": [
    "# Define an observer location (topos)\n",
    "boston = Topos('42.3601 N', '71.0589 W')"
   ]
  },
  {
   "cell_type": "code",
   "execution_count": 13,
   "metadata": {},
   "outputs": [],
   "source": [
    "# Define a time\n",
    "ts = load.timescale()\n",
    "t = ts.utc(2024, 10, 9, 12, 0)  # Noon on October 9, 2024"
   ]
  },
  {
   "cell_type": "code",
   "execution_count": 14,
   "metadata": {},
   "outputs": [
    {
     "name": "stdout",
     "output_type": "stream",
     "text": [
      "Altitude: -64deg 50' 08.3\"\n",
      "Azimuth: 27deg 30' 31.7\"\n",
      "Distance: 12016.689046154333 km\n"
     ]
    }
   ],
   "source": [
    "# Compute the satellite's position relative to Boston\n",
    "difference = satellite - boston\n",
    "topocentric = difference.at(t)\n",
    "alt, az, distance = topocentric.altaz()\n",
    "\n",
    "print(f\"Altitude: {alt}\")\n",
    "print(f\"Azimuth: {az}\")\n",
    "print(f\"Distance: {distance.km} km\")"
   ]
  }
 ],
 "metadata": {
  "kernelspec": {
   "display_name": "venv",
   "language": "python",
   "name": "python3"
  },
  "language_info": {
   "codemirror_mode": {
    "name": "ipython",
    "version": 3
   },
   "file_extension": ".py",
   "mimetype": "text/x-python",
   "name": "python",
   "nbconvert_exporter": "python",
   "pygments_lexer": "ipython3",
   "version": "3.11.10"
  }
 },
 "nbformat": 4,
 "nbformat_minor": 2
}
