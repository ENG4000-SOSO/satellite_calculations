{
 "cells": [
  {
   "cell_type": "code",
   "execution_count": 1,
   "metadata": {},
   "outputs": [],
   "source": [
    "from skyfield.api import load, Topos"
   ]
  },
  {
   "cell_type": "code",
   "execution_count": 2,
   "metadata": {},
   "outputs": [],
   "source": [
    "eph = load('de421.bsp')  # Load planetary ephemerides from JPL's DE421"
   ]
  },
  {
   "cell_type": "code",
   "execution_count": 3,
   "metadata": {},
   "outputs": [],
   "source": [
    "# Define celestial objects\n",
    "earth = eph['earth']\n",
    "sun = eph['sun']"
   ]
  },
  {
   "cell_type": "code",
   "execution_count": 4,
   "metadata": {},
   "outputs": [],
   "source": [
    "# Define a time\n",
    "ts = load.timescale()\n",
    "t = ts.utc(2024, 10, 10)  # Date: October 9, 2024"
   ]
  },
  {
   "cell_type": "code",
   "execution_count": 5,
   "metadata": {},
   "outputs": [
    {
     "name": "stdout",
     "output_type": "stream",
     "text": [
      "Right Ascension: 13h 02m 05.31s\n",
      "Declination: -06deg 37' 00.8\"\n",
      "Distance to Sun: 0.998619 au AU\n"
     ]
    }
   ],
   "source": [
    "# Compute position of the Sun as seen from Earth\n",
    "astrometric = earth.at(t).observe(sun)\n",
    "ra, dec, distance = astrometric.radec()\n",
    "\n",
    "print(f\"Right Ascension: {ra}\")\n",
    "print(f\"Declination: {dec}\")\n",
    "print(f\"Distance to Sun: {distance} AU\")"
   ]
  },
  {
   "cell_type": "code",
   "execution_count": null,
   "metadata": {},
   "outputs": [],
   "source": []
  }
 ],
 "metadata": {
  "kernelspec": {
   "display_name": "venv",
   "language": "python",
   "name": "python3"
  },
  "language_info": {
   "codemirror_mode": {
    "name": "ipython",
    "version": 3
   },
   "file_extension": ".py",
   "mimetype": "text/x-python",
   "name": "python",
   "nbconvert_exporter": "python",
   "pygments_lexer": "ipython3",
   "version": "3.11.10"
  }
 },
 "nbformat": 4,
 "nbformat_minor": 2
}
